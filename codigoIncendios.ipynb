{
 "cells": [
  {
   "cell_type": "code",
   "execution_count": null,
   "id": "e15e20ca",
   "metadata": {},
   "outputs": [],
   "source": [
    "import pandas as pd\n",
    "\n",
    "# Tente com encoding 'latin-1'\n",
    "df = pd.read_csv('incendiosFlorestais.csv', encoding='latin-1')\n",
    "\n",
    "print(df.head(10))\n",
    "\n"
   ]
  },
  {
   "cell_type": "code",
   "execution_count": 10,
   "id": "489fe9d6",
   "metadata": {},
   "outputs": [
    {
     "name": "stderr",
     "output_type": "stream",
     "text": [
      "2025-06-25 20:31:41.435 Thread 'MainThread': missing ScriptRunContext! This warning can be ignored when running in bare mode.\n",
      "2025-06-25 20:31:41.436 Thread 'MainThread': missing ScriptRunContext! This warning can be ignored when running in bare mode.\n",
      "2025-06-25 20:31:41.436 Thread 'MainThread': missing ScriptRunContext! This warning can be ignored when running in bare mode.\n",
      "2025-06-25 20:31:41.437 Thread 'MainThread': missing ScriptRunContext! This warning can be ignored when running in bare mode.\n",
      "2025-06-25 20:31:41.437 Thread 'MainThread': missing ScriptRunContext! This warning can be ignored when running in bare mode.\n",
      "2025-06-25 20:31:41.438 Thread 'MainThread': missing ScriptRunContext! This warning can be ignored when running in bare mode.\n",
      "2025-06-25 20:31:41.438 Thread 'MainThread': missing ScriptRunContext! This warning can be ignored when running in bare mode.\n",
      "2025-06-25 20:31:41.439 Thread 'MainThread': missing ScriptRunContext! This warning can be ignored when running in bare mode.\n",
      "2025-06-25 20:31:41.439 Thread 'MainThread': missing ScriptRunContext! This warning can be ignored when running in bare mode.\n",
      "2025-06-25 20:31:41.440 Thread 'MainThread': missing ScriptRunContext! This warning can be ignored when running in bare mode.\n",
      "2025-06-25 20:31:41.440 Thread 'MainThread': missing ScriptRunContext! This warning can be ignored when running in bare mode.\n",
      "2025-06-25 20:31:41.441 Thread 'MainThread': missing ScriptRunContext! This warning can be ignored when running in bare mode.\n",
      "2025-06-25 20:31:41.441 Thread 'MainThread': missing ScriptRunContext! This warning can be ignored when running in bare mode.\n",
      "2025-06-25 20:31:41.442 Thread 'MainThread': missing ScriptRunContext! This warning can be ignored when running in bare mode.\n",
      "2025-06-25 20:31:41.442 Thread 'MainThread': missing ScriptRunContext! This warning can be ignored when running in bare mode.\n",
      "2025-06-25 20:31:41.443 Thread 'MainThread': missing ScriptRunContext! This warning can be ignored when running in bare mode.\n"
     ]
    }
   ],
   "source": [
    "#Criando uma pagina com streamlit\n",
    "\n",
    "import streamlit as st\n",
    "import pandas as pd\n",
    "\n",
    "# Configuração da página\n",
    "st.set_page_config(\n",
    "    page_title=\"Incêndios Florestais\",\n",
    "    page_icon=\"🔥\",\n",
    "    layout=\"wide\"\n",
    ")\n",
    "\n",
    "# Título da aplicação\n",
    "st.title(\"🔥 Dashboard: Incêndios Florestais\")\n",
    "\n",
    "# Descrição\n",
    "st.markdown(\"\"\"\n",
    "Esta aplicação permite analisar dados sobre incêndios florestais.\n",
    "Faça o *upload* do seu CSV para visualizar as estatísticas e gráficos.\n",
    "\"\"\")\n",
    "\n",
    "# Upload do CSV\n",
    "arquivo = st.file_uploader(\n",
    "    \"Selecione o arquivo CSV (ex.: incendiosFlorestais.csv)\", \n",
    "    type=['csv']\n",
    ")\n",
    "\n",
    "if arquivo is not None:\n",
    "    # Carregar o DataFrame\n",
    "    df = pd.read_csv(arquivo, encoding='latin-1')\n",
    "    \n",
    "    st.success(f\"Arquivo '{arquivo.name}' carregado com sucesso!\")\n",
    "    \n",
    "    # Mostrar as primeiras 5 linhas\n",
    "    st.subheader('Amostra dos dados')\n",
    "    st.write(df.head())\n",
    "    \n",
    "    # Mostrar estatísticas\n",
    "    st.subheader('Estatísticas descritivas')\n",
    "    st.write(df.describe(include='all'))\n",
    "    \n",
    "    # Informações do DataFrame\n",
    "    st.subheader('Info')\n",
    "    buffer = []\n",
    "    df.info(buf=buffer)\n",
    "    st.text(\"\\n\".join(buffer))\n",
    "    \n",
    "else:\n",
    "    st.info(\"👆 Faça o *upload* de um CSV para começar a análise\")\n",
    "\n",
    "\n",
    "\n"
   ]
  }
 ],
 "metadata": {
  "kernelspec": {
   "display_name": "Python 3",
   "language": "python",
   "name": "python3"
  },
  "language_info": {
   "codemirror_mode": {
    "name": "ipython",
    "version": 3
   },
   "file_extension": ".py",
   "mimetype": "text/x-python",
   "name": "python",
   "nbconvert_exporter": "python",
   "pygments_lexer": "ipython3",
   "version": "3.13.3"
  }
 },
 "nbformat": 4,
 "nbformat_minor": 5
}
